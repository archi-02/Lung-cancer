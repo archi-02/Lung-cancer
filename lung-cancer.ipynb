{
 "cells": [
  {
   "cell_type": "markdown",
   "id": "fcc4ca89",
   "metadata": {
    "papermill": {
     "duration": 0.008185,
     "end_time": "2022-10-10T15:37:34.654157",
     "exception": false,
     "start_time": "2022-10-10T15:37:34.645972",
     "status": "completed"
    },
    "tags": []
   },
   "source": [
    "**The effectiveness of cancer prediction system helps the people to know their cancer risk with low cost and it also helps the people to take the appropriate decision based on their cancer risk status.**\n",
    "\n",
    "1. Gender: M(male), F(female)\n",
    "\n",
    "2. Age: Age of the patient\n",
    "\n",
    "3. Smoking: YES=2 , NO=1.\n",
    "\n",
    "4. Yellow fingers: YES=2 , NO=1.\n",
    "\n",
    "5. Anxiety: YES=2 , NO=1.\n",
    "\n",
    "6. Peer_pressure: YES=2 , NO=1.\n",
    "\n",
    "7. Chronic Disease: YES=2 , NO=1.\n",
    "\n",
    "8. Fatigue: YES=2 , NO=1.\n",
    "\n",
    "9. Allergy: YES=2 , NO=1.\n",
    "\n",
    "10. Wheezing: YES=2 , NO=1.\n",
    "\n",
    "11. Alcohol: YES=2 , NO=1.\n",
    "\n",
    "12. Coughing: YES=2 , NO=1.\n",
    "\n",
    "13. Shortness of Breath: YES=2 , NO=1.\n",
    "\n",
    "14. Swallowing Difficulty: YES=2 , NO=1.\n",
    "\n",
    "15. Chest pain: YES=2 , NO=1.\n",
    "\n",
    "16. Lung Cancer: YES , NO."
   ]
  },
  {
   "cell_type": "markdown",
   "id": "0b135be8",
   "metadata": {
    "papermill": {
     "duration": 0.006876,
     "end_time": "2022-10-10T15:37:34.668553",
     "exception": false,
     "start_time": "2022-10-10T15:37:34.661677",
     "status": "completed"
    },
    "tags": []
   },
   "source": [
    "***Importing libraries***"
   ]
  },
  {
   "cell_type": "code",
   "execution_count": 1,
   "id": "af71a21d",
   "metadata": {
    "execution": {
     "iopub.execute_input": "2022-10-10T15:37:34.685445Z",
     "iopub.status.busy": "2022-10-10T15:37:34.684630Z",
     "iopub.status.idle": "2022-10-10T15:37:35.738364Z",
     "shell.execute_reply": "2022-10-10T15:37:35.737033Z"
    },
    "papermill": {
     "duration": 1.065038,
     "end_time": "2022-10-10T15:37:35.740844",
     "exception": false,
     "start_time": "2022-10-10T15:37:34.675806",
     "status": "completed"
    },
    "tags": []
   },
   "outputs": [],
   "source": [
    "import numpy as np\n",
    "import pandas as pd\n",
    "import matplotlib.pyplot as plt\n",
    "import seaborn as sns\n",
    "from scipy import stats\n",
    "import sys"
   ]
  },
  {
   "cell_type": "markdown",
   "id": "cfc720e6",
   "metadata": {
    "papermill": {
     "duration": 0.006714,
     "end_time": "2022-10-10T15:37:35.754959",
     "exception": false,
     "start_time": "2022-10-10T15:37:35.748245",
     "status": "completed"
    },
    "tags": []
   },
   "source": [
    "***Import dataset***"
   ]
  },
  {
   "cell_type": "code",
   "execution_count": 2,
   "id": "61e827e0",
   "metadata": {
    "execution": {
     "iopub.execute_input": "2022-10-10T15:37:35.771803Z",
     "iopub.status.busy": "2022-10-10T15:37:35.770591Z",
     "iopub.status.idle": "2022-10-10T15:37:35.798850Z",
     "shell.execute_reply": "2022-10-10T15:37:35.797840Z"
    },
    "papermill": {
     "duration": 0.038899,
     "end_time": "2022-10-10T15:37:35.800993",
     "exception": false,
     "start_time": "2022-10-10T15:37:35.762094",
     "status": "completed"
    },
    "tags": []
   },
   "outputs": [],
   "source": [
    "lc = pd.read_csv('../input/lung-cancer/survey lung cancer.csv')"
   ]
  },
  {
   "cell_type": "markdown",
   "id": "f372ca28",
   "metadata": {
    "papermill": {
     "duration": 0.006852,
     "end_time": "2022-10-10T15:37:35.815019",
     "exception": false,
     "start_time": "2022-10-10T15:37:35.808167",
     "status": "completed"
    },
    "tags": []
   },
   "source": [
    "***Overview of cancer data***\n",
    "\n",
    "(1) Column names"
   ]
  },
  {
   "cell_type": "code",
   "execution_count": 3,
   "id": "4f32b13e",
   "metadata": {
    "execution": {
     "iopub.execute_input": "2022-10-10T15:37:35.830120Z",
     "iopub.status.busy": "2022-10-10T15:37:35.829834Z",
     "iopub.status.idle": "2022-10-10T15:37:35.836178Z",
     "shell.execute_reply": "2022-10-10T15:37:35.835202Z"
    },
    "papermill": {
     "duration": 0.016916,
     "end_time": "2022-10-10T15:37:35.838942",
     "exception": false,
     "start_time": "2022-10-10T15:37:35.822026",
     "status": "completed"
    },
    "tags": []
   },
   "outputs": [
    {
     "name": "stdout",
     "output_type": "stream",
     "text": [
      "Index(['GENDER', 'AGE', 'SMOKING', 'YELLOW_FINGERS', 'ANXIETY',\n",
      "       'PEER_PRESSURE', 'CHRONIC DISEASE', 'FATIGUE ', 'ALLERGY ', 'WHEEZING',\n",
      "       'ALCOHOL CONSUMING', 'COUGHING', 'SHORTNESS OF BREATH',\n",
      "       'SWALLOWING DIFFICULTY', 'CHEST PAIN', 'LUNG_CANCER'],\n",
      "      dtype='object')\n"
     ]
    }
   ],
   "source": [
    "print(lc.columns)"
   ]
  },
  {
   "cell_type": "markdown",
   "id": "8ca14cba",
   "metadata": {
    "papermill": {
     "duration": 0.007792,
     "end_time": "2022-10-10T15:37:35.855108",
     "exception": false,
     "start_time": "2022-10-10T15:37:35.847316",
     "status": "completed"
    },
    "tags": []
   },
   "source": [
    "(2) Number of rows and columns"
   ]
  },
  {
   "cell_type": "code",
   "execution_count": 4,
   "id": "6825ae1b",
   "metadata": {
    "execution": {
     "iopub.execute_input": "2022-10-10T15:37:35.870830Z",
     "iopub.status.busy": "2022-10-10T15:37:35.870515Z",
     "iopub.status.idle": "2022-10-10T15:37:35.878194Z",
     "shell.execute_reply": "2022-10-10T15:37:35.875592Z"
    },
    "papermill": {
     "duration": 0.01889,
     "end_time": "2022-10-10T15:37:35.881125",
     "exception": false,
     "start_time": "2022-10-10T15:37:35.862235",
     "status": "completed"
    },
    "tags": []
   },
   "outputs": [
    {
     "name": "stdout",
     "output_type": "stream",
     "text": [
      "(309, 16)\n",
      "number of rows: 309\n",
      "number of columns: 16\n"
     ]
    }
   ],
   "source": [
    "print(lc.shape)\n",
    "print(\"number of rows: \" + str(lc.shape[0]))\n",
    "print(\"number of columns: \" + str(lc.shape[1]))"
   ]
  },
  {
   "cell_type": "markdown",
   "id": "8f059a87",
   "metadata": {
    "papermill": {
     "duration": 0.007832,
     "end_time": "2022-10-10T15:37:35.899106",
     "exception": false,
     "start_time": "2022-10-10T15:37:35.891274",
     "status": "completed"
    },
    "tags": []
   },
   "source": [
    "(3) First 10 rows of data"
   ]
  },
  {
   "cell_type": "code",
   "execution_count": 5,
   "id": "a1ee622a",
   "metadata": {
    "execution": {
     "iopub.execute_input": "2022-10-10T15:37:35.919615Z",
     "iopub.status.busy": "2022-10-10T15:37:35.918085Z",
     "iopub.status.idle": "2022-10-10T15:37:35.935655Z",
     "shell.execute_reply": "2022-10-10T15:37:35.934230Z"
    },
    "papermill": {
     "duration": 0.030524,
     "end_time": "2022-10-10T15:37:35.937910",
     "exception": false,
     "start_time": "2022-10-10T15:37:35.907386",
     "status": "completed"
    },
    "tags": []
   },
   "outputs": [
    {
     "name": "stdout",
     "output_type": "stream",
     "text": [
      "  GENDER  AGE  SMOKING  YELLOW_FINGERS  ANXIETY  PEER_PRESSURE  \\\n",
      "0      M   69        1               2        2              1   \n",
      "1      M   74        2               1        1              1   \n",
      "2      F   59        1               1        1              2   \n",
      "3      M   63        2               2        2              1   \n",
      "4      F   63        1               2        1              1   \n",
      "5      F   75        1               2        1              1   \n",
      "6      M   52        2               1        1              1   \n",
      "7      F   51        2               2        2              2   \n",
      "8      F   68        2               1        2              1   \n",
      "9      M   53        2               2        2              2   \n",
      "\n",
      "   CHRONIC DISEASE  FATIGUE   ALLERGY   WHEEZING  ALCOHOL CONSUMING  COUGHING  \\\n",
      "0                1         2         1         2                  2         2   \n",
      "1                2         2         2         1                  1         1   \n",
      "2                1         2         1         2                  1         2   \n",
      "3                1         1         1         1                  2         1   \n",
      "4                1         1         1         2                  1         2   \n",
      "5                2         2         2         2                  1         2   \n",
      "6                1         2         1         2                  2         2   \n",
      "7                1         2         2         1                  1         1   \n",
      "8                1         2         1         1                  1         1   \n",
      "9                2         1         2         1                  2         1   \n",
      "\n",
      "   SHORTNESS OF BREATH  SWALLOWING DIFFICULTY  CHEST PAIN LUNG_CANCER  \n",
      "0                    2                      2           2         YES  \n",
      "1                    2                      2           2         YES  \n",
      "2                    2                      1           2          NO  \n",
      "3                    1                      2           2          NO  \n",
      "4                    2                      1           1          NO  \n",
      "5                    2                      1           1         YES  \n",
      "6                    2                      1           2         YES  \n",
      "7                    2                      2           1         YES  \n",
      "8                    1                      1           1          NO  \n",
      "9                    1                      2           2         YES  \n"
     ]
    }
   ],
   "source": [
    "print(lc.head(10))"
   ]
  },
  {
   "cell_type": "markdown",
   "id": "ba91455f",
   "metadata": {
    "papermill": {
     "duration": 0.009494,
     "end_time": "2022-10-10T15:37:35.957257",
     "exception": false,
     "start_time": "2022-10-10T15:37:35.947763",
     "status": "completed"
    },
    "tags": []
   },
   "source": [
    "(4) Last 10 rows of cancer data"
   ]
  },
  {
   "cell_type": "code",
   "execution_count": 6,
   "id": "2beaf72a",
   "metadata": {
    "execution": {
     "iopub.execute_input": "2022-10-10T15:37:35.973725Z",
     "iopub.status.busy": "2022-10-10T15:37:35.973364Z",
     "iopub.status.idle": "2022-10-10T15:37:35.982551Z",
     "shell.execute_reply": "2022-10-10T15:37:35.981495Z"
    },
    "papermill": {
     "duration": 0.019481,
     "end_time": "2022-10-10T15:37:35.984473",
     "exception": false,
     "start_time": "2022-10-10T15:37:35.964992",
     "status": "completed"
    },
    "tags": []
   },
   "outputs": [
    {
     "name": "stdout",
     "output_type": "stream",
     "text": [
      "    GENDER  AGE  SMOKING  YELLOW_FINGERS  ANXIETY  PEER_PRESSURE  \\\n",
      "299      M   65        2               2        2              2   \n",
      "300      F   63        2               2        2              2   \n",
      "301      M   64        1               2        2              2   \n",
      "302      F   65        2               2        2              2   \n",
      "303      M   51        1               2        1              1   \n",
      "304      F   56        1               1        1              2   \n",
      "305      M   70        2               1        1              1   \n",
      "306      M   58        2               1        1              1   \n",
      "307      M   67        2               1        2              1   \n",
      "308      M   62        1               1        1              2   \n",
      "\n",
      "     CHRONIC DISEASE  FATIGUE   ALLERGY   WHEEZING  ALCOHOL CONSUMING  \\\n",
      "299                1         2         2         1                  1   \n",
      "300                2         2         2         2                  1   \n",
      "301                1         1         2         1                  2   \n",
      "302                1         2         1         2                  1   \n",
      "303                2         2         2         2                  2   \n",
      "304                2         2         1         1                  2   \n",
      "305                1         2         2         2                  2   \n",
      "306                1         1         2         2                  2   \n",
      "307                1         2         2         1                  2   \n",
      "308                1         2         2         2                  2   \n",
      "\n",
      "     COUGHING  SHORTNESS OF BREATH  SWALLOWING DIFFICULTY  CHEST PAIN  \\\n",
      "299         1                    2                      2           1   \n",
      "300         2                    2                      2           2   \n",
      "301         1                    1                      2           2   \n",
      "302         2                    2                      2           1   \n",
      "303         2                    2                      1           2   \n",
      "304         2                    2                      2           1   \n",
      "305         2                    2                      1           2   \n",
      "306         2                    1                      1           2   \n",
      "307         2                    2                      1           2   \n",
      "308         1                    1                      2           1   \n",
      "\n",
      "    LUNG_CANCER  \n",
      "299         YES  \n",
      "300         YES  \n",
      "301         YES  \n",
      "302         YES  \n",
      "303         YES  \n",
      "304         YES  \n",
      "305         YES  \n",
      "306         YES  \n",
      "307         YES  \n",
      "308         YES  \n"
     ]
    }
   ],
   "source": [
    "print(lc.tail(10))"
   ]
  },
  {
   "cell_type": "markdown",
   "id": "20788a3a",
   "metadata": {
    "papermill": {
     "duration": 0.006856,
     "end_time": "2022-10-10T15:37:35.998950",
     "exception": false,
     "start_time": "2022-10-10T15:37:35.992094",
     "status": "completed"
    },
    "tags": []
   },
   "source": [
    "(5) Basic information"
   ]
  },
  {
   "cell_type": "code",
   "execution_count": 7,
   "id": "d483f419",
   "metadata": {
    "execution": {
     "iopub.execute_input": "2022-10-10T15:37:36.015021Z",
     "iopub.status.busy": "2022-10-10T15:37:36.014427Z",
     "iopub.status.idle": "2022-10-10T15:37:36.040789Z",
     "shell.execute_reply": "2022-10-10T15:37:36.038348Z"
    },
    "papermill": {
     "duration": 0.036844,
     "end_time": "2022-10-10T15:37:36.042916",
     "exception": false,
     "start_time": "2022-10-10T15:37:36.006072",
     "status": "completed"
    },
    "tags": []
   },
   "outputs": [
    {
     "name": "stdout",
     "output_type": "stream",
     "text": [
      "<class 'pandas.core.frame.DataFrame'>\n",
      "RangeIndex: 309 entries, 0 to 308\n",
      "Data columns (total 16 columns):\n",
      " #   Column                 Non-Null Count  Dtype \n",
      "---  ------                 --------------  ----- \n",
      " 0   GENDER                 309 non-null    object\n",
      " 1   AGE                    309 non-null    int64 \n",
      " 2   SMOKING                309 non-null    int64 \n",
      " 3   YELLOW_FINGERS         309 non-null    int64 \n",
      " 4   ANXIETY                309 non-null    int64 \n",
      " 5   PEER_PRESSURE          309 non-null    int64 \n",
      " 6   CHRONIC DISEASE        309 non-null    int64 \n",
      " 7   FATIGUE                309 non-null    int64 \n",
      " 8   ALLERGY                309 non-null    int64 \n",
      " 9   WHEEZING               309 non-null    int64 \n",
      " 10  ALCOHOL CONSUMING      309 non-null    int64 \n",
      " 11  COUGHING               309 non-null    int64 \n",
      " 12  SHORTNESS OF BREATH    309 non-null    int64 \n",
      " 13  SWALLOWING DIFFICULTY  309 non-null    int64 \n",
      " 14  CHEST PAIN             309 non-null    int64 \n",
      " 15  LUNG_CANCER            309 non-null    object\n",
      "dtypes: int64(14), object(2)\n",
      "memory usage: 38.8+ KB\n",
      "None\n"
     ]
    }
   ],
   "source": [
    "print(lc.info())"
   ]
  },
  {
   "cell_type": "markdown",
   "id": "068d9d7f",
   "metadata": {
    "papermill": {
     "duration": 0.006972,
     "end_time": "2022-10-10T15:37:36.058327",
     "exception": false,
     "start_time": "2022-10-10T15:37:36.051355",
     "status": "completed"
    },
    "tags": []
   },
   "source": [
    "***Cleaning of cancer data***\n",
    "\n",
    "(1) Checking null values"
   ]
  },
  {
   "cell_type": "code",
   "execution_count": 8,
   "id": "7a9e3ef8",
   "metadata": {
    "execution": {
     "iopub.execute_input": "2022-10-10T15:37:36.074492Z",
     "iopub.status.busy": "2022-10-10T15:37:36.073504Z",
     "iopub.status.idle": "2022-10-10T15:37:36.088460Z",
     "shell.execute_reply": "2022-10-10T15:37:36.087618Z"
    },
    "papermill": {
     "duration": 0.025024,
     "end_time": "2022-10-10T15:37:36.090381",
     "exception": false,
     "start_time": "2022-10-10T15:37:36.065357",
     "status": "completed"
    },
    "tags": []
   },
   "outputs": [
    {
     "name": "stdout",
     "output_type": "stream",
     "text": [
      "     GENDER    AGE  SMOKING  YELLOW_FINGERS  ANXIETY  PEER_PRESSURE  \\\n",
      "0     False  False    False           False    False          False   \n",
      "1     False  False    False           False    False          False   \n",
      "2     False  False    False           False    False          False   \n",
      "3     False  False    False           False    False          False   \n",
      "4     False  False    False           False    False          False   \n",
      "..      ...    ...      ...             ...      ...            ...   \n",
      "304   False  False    False           False    False          False   \n",
      "305   False  False    False           False    False          False   \n",
      "306   False  False    False           False    False          False   \n",
      "307   False  False    False           False    False          False   \n",
      "308   False  False    False           False    False          False   \n",
      "\n",
      "     CHRONIC DISEASE  FATIGUE   ALLERGY   WHEEZING  ALCOHOL CONSUMING  \\\n",
      "0              False     False     False     False              False   \n",
      "1              False     False     False     False              False   \n",
      "2              False     False     False     False              False   \n",
      "3              False     False     False     False              False   \n",
      "4              False     False     False     False              False   \n",
      "..               ...       ...       ...       ...                ...   \n",
      "304            False     False     False     False              False   \n",
      "305            False     False     False     False              False   \n",
      "306            False     False     False     False              False   \n",
      "307            False     False     False     False              False   \n",
      "308            False     False     False     False              False   \n",
      "\n",
      "     COUGHING  SHORTNESS OF BREATH  SWALLOWING DIFFICULTY  CHEST PAIN  \\\n",
      "0       False                False                  False       False   \n",
      "1       False                False                  False       False   \n",
      "2       False                False                  False       False   \n",
      "3       False                False                  False       False   \n",
      "4       False                False                  False       False   \n",
      "..        ...                  ...                    ...         ...   \n",
      "304     False                False                  False       False   \n",
      "305     False                False                  False       False   \n",
      "306     False                False                  False       False   \n",
      "307     False                False                  False       False   \n",
      "308     False                False                  False       False   \n",
      "\n",
      "     LUNG_CANCER  \n",
      "0          False  \n",
      "1          False  \n",
      "2          False  \n",
      "3          False  \n",
      "4          False  \n",
      "..           ...  \n",
      "304        False  \n",
      "305        False  \n",
      "306        False  \n",
      "307        False  \n",
      "308        False  \n",
      "\n",
      "[309 rows x 16 columns]\n"
     ]
    }
   ],
   "source": [
    "print(lc.isnull())"
   ]
  },
  {
   "cell_type": "code",
   "execution_count": 9,
   "id": "2f530a0a",
   "metadata": {
    "execution": {
     "iopub.execute_input": "2022-10-10T15:37:36.106946Z",
     "iopub.status.busy": "2022-10-10T15:37:36.106618Z",
     "iopub.status.idle": "2022-10-10T15:37:36.112965Z",
     "shell.execute_reply": "2022-10-10T15:37:36.112212Z"
    },
    "papermill": {
     "duration": 0.016496,
     "end_time": "2022-10-10T15:37:36.114562",
     "exception": false,
     "start_time": "2022-10-10T15:37:36.098066",
     "status": "completed"
    },
    "tags": []
   },
   "outputs": [
    {
     "name": "stdout",
     "output_type": "stream",
     "text": [
      "GENDER                   0\n",
      "AGE                      0\n",
      "SMOKING                  0\n",
      "YELLOW_FINGERS           0\n",
      "ANXIETY                  0\n",
      "PEER_PRESSURE            0\n",
      "CHRONIC DISEASE          0\n",
      "FATIGUE                  0\n",
      "ALLERGY                  0\n",
      "WHEEZING                 0\n",
      "ALCOHOL CONSUMING        0\n",
      "COUGHING                 0\n",
      "SHORTNESS OF BREATH      0\n",
      "SWALLOWING DIFFICULTY    0\n",
      "CHEST PAIN               0\n",
      "LUNG_CANCER              0\n",
      "dtype: int64\n"
     ]
    }
   ],
   "source": [
    "print(lc.isnull().sum())"
   ]
  },
  {
   "cell_type": "markdown",
   "id": "879a5d42",
   "metadata": {
    "papermill": {
     "duration": 0.007071,
     "end_time": "2022-10-10T15:37:36.129199",
     "exception": false,
     "start_time": "2022-10-10T15:37:36.122128",
     "status": "completed"
    },
    "tags": []
   },
   "source": [
    "(2) Checking duplicate values"
   ]
  },
  {
   "cell_type": "code",
   "execution_count": 10,
   "id": "0f2dfd75",
   "metadata": {
    "execution": {
     "iopub.execute_input": "2022-10-10T15:37:36.146815Z",
     "iopub.status.busy": "2022-10-10T15:37:36.145813Z",
     "iopub.status.idle": "2022-10-10T15:37:36.153484Z",
     "shell.execute_reply": "2022-10-10T15:37:36.152727Z"
    },
    "papermill": {
     "duration": 0.018585,
     "end_time": "2022-10-10T15:37:36.155538",
     "exception": false,
     "start_time": "2022-10-10T15:37:36.136953",
     "status": "completed"
    },
    "tags": []
   },
   "outputs": [
    {
     "name": "stdout",
     "output_type": "stream",
     "text": [
      "True\n"
     ]
    }
   ],
   "source": [
    "print(lc.duplicated().any())"
   ]
  },
  {
   "cell_type": "code",
   "execution_count": 11,
   "id": "4fe8f0ea",
   "metadata": {
    "execution": {
     "iopub.execute_input": "2022-10-10T15:37:36.172560Z",
     "iopub.status.busy": "2022-10-10T15:37:36.172239Z",
     "iopub.status.idle": "2022-10-10T15:37:36.181776Z",
     "shell.execute_reply": "2022-10-10T15:37:36.179464Z"
    },
    "papermill": {
     "duration": 0.021007,
     "end_time": "2022-10-10T15:37:36.184399",
     "exception": false,
     "start_time": "2022-10-10T15:37:36.163392",
     "status": "completed"
    },
    "tags": []
   },
   "outputs": [
    {
     "name": "stdout",
     "output_type": "stream",
     "text": [
      "0      False\n",
      "1      False\n",
      "2      False\n",
      "3      False\n",
      "4      False\n",
      "       ...  \n",
      "304     True\n",
      "305     True\n",
      "306     True\n",
      "307     True\n",
      "308     True\n",
      "Length: 309, dtype: bool\n"
     ]
    }
   ],
   "source": [
    "print(lc.duplicated())"
   ]
  },
  {
   "cell_type": "code",
   "execution_count": 12,
   "id": "2994849e",
   "metadata": {
    "execution": {
     "iopub.execute_input": "2022-10-10T15:37:36.204253Z",
     "iopub.status.busy": "2022-10-10T15:37:36.203930Z",
     "iopub.status.idle": "2022-10-10T15:37:36.217830Z",
     "shell.execute_reply": "2022-10-10T15:37:36.216226Z"
    },
    "papermill": {
     "duration": 0.028042,
     "end_time": "2022-10-10T15:37:36.220541",
     "exception": false,
     "start_time": "2022-10-10T15:37:36.192499",
     "status": "completed"
    },
    "tags": []
   },
   "outputs": [
    {
     "name": "stdout",
     "output_type": "stream",
     "text": [
      "    GENDER  AGE  SMOKING  YELLOW_FINGERS  ANXIETY  PEER_PRESSURE  \\\n",
      "0        M   69        1               2        2              1   \n",
      "1        M   74        2               1        1              1   \n",
      "2        F   59        1               1        1              2   \n",
      "3        M   63        2               2        2              1   \n",
      "4        F   63        1               2        1              1   \n",
      "..     ...  ...      ...             ...      ...            ...   \n",
      "279      F   59        1               2        2              2   \n",
      "280      F   59        2               1        1              1   \n",
      "281      M   55        2               1        1              1   \n",
      "282      M   46        1               2        2              1   \n",
      "283      M   60        1               2        2              1   \n",
      "\n",
      "     CHRONIC DISEASE  FATIGUE   ALLERGY   WHEEZING  ALCOHOL CONSUMING  \\\n",
      "0                  1         2         1         2                  2   \n",
      "1                  2         2         2         1                  1   \n",
      "2                  1         2         1         2                  1   \n",
      "3                  1         1         1         1                  2   \n",
      "4                  1         1         1         2                  1   \n",
      "..               ...       ...       ...       ...                ...   \n",
      "279                1         1         2         2                  1   \n",
      "280                2         2         2         1                  1   \n",
      "281                1         2         2         1                  1   \n",
      "282                1         1         1         1                  1   \n",
      "283                1         2         1         2                  2   \n",
      "\n",
      "     COUGHING  SHORTNESS OF BREATH  SWALLOWING DIFFICULTY  CHEST PAIN  \\\n",
      "0           2                    2                      2           2   \n",
      "1           1                    2                      2           2   \n",
      "2           2                    2                      1           2   \n",
      "3           1                    1                      2           2   \n",
      "4           2                    2                      1           1   \n",
      "..        ...                  ...                    ...         ...   \n",
      "279         2                    1                      2           1   \n",
      "280         1                    2                      1           1   \n",
      "281         1                    2                      1           2   \n",
      "282         1                    1                      2           2   \n",
      "283         2                    2                      2           2   \n",
      "\n",
      "    LUNG_CANCER  \n",
      "0           YES  \n",
      "1           YES  \n",
      "2            NO  \n",
      "3            NO  \n",
      "4            NO  \n",
      "..          ...  \n",
      "279         YES  \n",
      "280          NO  \n",
      "281          NO  \n",
      "282          NO  \n",
      "283         YES  \n",
      "\n",
      "[276 rows x 16 columns]\n"
     ]
    }
   ],
   "source": [
    "lc_no_dup = lc.drop_duplicates()\n",
    "print(lc_no_dup)"
   ]
  },
  {
   "cell_type": "markdown",
   "id": "18e3e9d4",
   "metadata": {
    "papermill": {
     "duration": 0.007644,
     "end_time": "2022-10-10T15:37:36.236384",
     "exception": false,
     "start_time": "2022-10-10T15:37:36.228740",
     "status": "completed"
    },
    "tags": []
   },
   "source": [
    "(3) Number of rows and columns after cleaning"
   ]
  },
  {
   "cell_type": "code",
   "execution_count": 13,
   "id": "bafe7176",
   "metadata": {
    "execution": {
     "iopub.execute_input": "2022-10-10T15:37:36.254475Z",
     "iopub.status.busy": "2022-10-10T15:37:36.254101Z",
     "iopub.status.idle": "2022-10-10T15:37:36.260646Z",
     "shell.execute_reply": "2022-10-10T15:37:36.258940Z"
    },
    "papermill": {
     "duration": 0.018769,
     "end_time": "2022-10-10T15:37:36.263342",
     "exception": false,
     "start_time": "2022-10-10T15:37:36.244573",
     "status": "completed"
    },
    "tags": []
   },
   "outputs": [
    {
     "name": "stdout",
     "output_type": "stream",
     "text": [
      "(276, 16)\n",
      "number of rows: 276\n",
      "number of columns: 16\n"
     ]
    }
   ],
   "source": [
    "print(lc_no_dup.shape)\n",
    "print(\"number of rows: \" + str(lc_no_dup.shape[0]))\n",
    "print(\"number of columns: \" + str(lc_no_dup.shape[1]))"
   ]
  },
  {
   "cell_type": "markdown",
   "id": "bf0ec613",
   "metadata": {
    "papermill": {
     "duration": 0.00777,
     "end_time": "2022-10-10T15:37:36.280047",
     "exception": false,
     "start_time": "2022-10-10T15:37:36.272277",
     "status": "completed"
    },
    "tags": []
   },
   "source": [
    "***Analysis of data***\n",
    "\n",
    "(1) Overview of statistics"
   ]
  },
  {
   "cell_type": "code",
   "execution_count": 14,
   "id": "8eb100f4",
   "metadata": {
    "execution": {
     "iopub.execute_input": "2022-10-10T15:37:36.297936Z",
     "iopub.status.busy": "2022-10-10T15:37:36.297605Z",
     "iopub.status.idle": "2022-10-10T15:37:36.335039Z",
     "shell.execute_reply": "2022-10-10T15:37:36.333893Z"
    },
    "papermill": {
     "duration": 0.048931,
     "end_time": "2022-10-10T15:37:36.337251",
     "exception": false,
     "start_time": "2022-10-10T15:37:36.288320",
     "status": "completed"
    },
    "tags": []
   },
   "outputs": [
    {
     "name": "stdout",
     "output_type": "stream",
     "text": [
      "              AGE     SMOKING  YELLOW_FINGERS     ANXIETY  PEER_PRESSURE  \\\n",
      "count  309.000000  309.000000      309.000000  309.000000     309.000000   \n",
      "mean    62.673139    1.563107        1.569579    1.498382       1.501618   \n",
      "std      8.210301    0.496806        0.495938    0.500808       0.500808   \n",
      "min     21.000000    1.000000        1.000000    1.000000       1.000000   \n",
      "25%     57.000000    1.000000        1.000000    1.000000       1.000000   \n",
      "50%     62.000000    2.000000        2.000000    1.000000       2.000000   \n",
      "75%     69.000000    2.000000        2.000000    2.000000       2.000000   \n",
      "max     87.000000    2.000000        2.000000    2.000000       2.000000   \n",
      "\n",
      "       CHRONIC DISEASE    FATIGUE     ALLERGY     WHEEZING  ALCOHOL CONSUMING  \\\n",
      "count       309.000000  309.000000  309.000000  309.000000         309.000000   \n",
      "mean          1.504854    1.673139    1.556634    1.556634           1.556634   \n",
      "std           0.500787    0.469827    0.497588    0.497588           0.497588   \n",
      "min           1.000000    1.000000    1.000000    1.000000           1.000000   \n",
      "25%           1.000000    1.000000    1.000000    1.000000           1.000000   \n",
      "50%           2.000000    2.000000    2.000000    2.000000           2.000000   \n",
      "75%           2.000000    2.000000    2.000000    2.000000           2.000000   \n",
      "max           2.000000    2.000000    2.000000    2.000000           2.000000   \n",
      "\n",
      "         COUGHING  SHORTNESS OF BREATH  SWALLOWING DIFFICULTY  CHEST PAIN  \n",
      "count  309.000000           309.000000             309.000000  309.000000  \n",
      "mean     1.579288             1.640777               1.469256    1.556634  \n",
      "std      0.494474             0.480551               0.499863    0.497588  \n",
      "min      1.000000             1.000000               1.000000    1.000000  \n",
      "25%      1.000000             1.000000               1.000000    1.000000  \n",
      "50%      2.000000             2.000000               1.000000    2.000000  \n",
      "75%      2.000000             2.000000               2.000000    2.000000  \n",
      "max      2.000000             2.000000               2.000000    2.000000  \n"
     ]
    }
   ],
   "source": [
    "print(lc.describe())"
   ]
  },
  {
   "cell_type": "markdown",
   "id": "d6abbce2",
   "metadata": {
    "papermill": {
     "duration": 0.008397,
     "end_time": "2022-10-10T15:37:36.355221",
     "exception": false,
     "start_time": "2022-10-10T15:37:36.346824",
     "status": "completed"
    },
    "tags": []
   },
   "source": []
  },
  {
   "cell_type": "markdown",
   "id": "c5261d0a",
   "metadata": {
    "papermill": {
     "duration": 0.007838,
     "end_time": "2022-10-10T15:37:36.371513",
     "exception": false,
     "start_time": "2022-10-10T15:37:36.363675",
     "status": "completed"
    },
    "tags": []
   },
   "source": [
    "(1) Number of males and females"
   ]
  },
  {
   "cell_type": "code",
   "execution_count": 15,
   "id": "ff99dbd7",
   "metadata": {
    "execution": {
     "iopub.execute_input": "2022-10-10T15:37:36.390946Z",
     "iopub.status.busy": "2022-10-10T15:37:36.390610Z",
     "iopub.status.idle": "2022-10-10T15:37:36.399325Z",
     "shell.execute_reply": "2022-10-10T15:37:36.397621Z"
    },
    "papermill": {
     "duration": 0.02165,
     "end_time": "2022-10-10T15:37:36.402252",
     "exception": false,
     "start_time": "2022-10-10T15:37:36.380602",
     "status": "completed"
    },
    "tags": []
   },
   "outputs": [
    {
     "name": "stdout",
     "output_type": "stream",
     "text": [
      "GENDER\n",
      "M    162\n",
      "F    147\n",
      "dtype: int64\n"
     ]
    }
   ],
   "source": [
    "g = lc.value_counts(\"GENDER\")\n",
    "print(g)"
   ]
  },
  {
   "cell_type": "code",
   "execution_count": 16,
   "id": "6666a048",
   "metadata": {
    "execution": {
     "iopub.execute_input": "2022-10-10T15:37:36.420593Z",
     "iopub.status.busy": "2022-10-10T15:37:36.420285Z",
     "iopub.status.idle": "2022-10-10T15:37:36.630514Z",
     "shell.execute_reply": "2022-10-10T15:37:36.629919Z"
    },
    "papermill": {
     "duration": 0.221852,
     "end_time": "2022-10-10T15:37:36.632498",
     "exception": false,
     "start_time": "2022-10-10T15:37:36.410646",
     "status": "completed"
    },
    "tags": []
   },
   "outputs": [
    {
     "data": {
      "image/png": "[encoded data removed]",
      "text/plain": [
       "<Figure size 432x432 with 1 Axes>"
      ]
     },
     "metadata": {},
     "output_type": "display_data"
    }
   ],
   "source": [
    "plt.figure(figsize=(6,6))\n",
    "plt.pie(g, labels=['Male','Female'], autopct=\"%.2f%%\", textprops={\"fontsize\":15, \"color\":\"w\"}, explode=[0, 0.1], shadow=True, startangle=172)\n",
    "plt.legend()\n",
    "plt.show()"
   ]
  },
  {
   "cell_type": "markdown",
   "id": "2781e114",
   "metadata": {
    "papermill": {
     "duration": 0.012113,
     "end_time": "2022-10-10T15:37:36.656390",
     "exception": false,
     "start_time": "2022-10-10T15:37:36.644277",
     "status": "completed"
    },
    "tags": []
   },
   "source": [
    "(2) Number of patients with and without cancer"
   ]
  },
  {
   "cell_type": "code",
   "execution_count": 17,
   "id": "f42ba290",
   "metadata": {
    "execution": {
     "iopub.execute_input": "2022-10-10T15:37:36.683147Z",
     "iopub.status.busy": "2022-10-10T15:37:36.681996Z",
     "iopub.status.idle": "2022-10-10T15:37:36.690461Z",
     "shell.execute_reply": "2022-10-10T15:37:36.688435Z"
    },
    "papermill": {
     "duration": 0.024913,
     "end_time": "2022-10-10T15:37:36.693449",
     "exception": false,
     "start_time": "2022-10-10T15:37:36.668536",
     "status": "completed"
    },
    "tags": []
   },
   "outputs": [
    {
     "name": "stdout",
     "output_type": "stream",
     "text": [
      "LUNG_CANCER\n",
      "YES    270\n",
      "NO      39\n",
      "dtype: int64\n"
     ]
    }
   ],
   "source": [
    "print(lc.value_counts(\"LUNG_CANCER\"))"
   ]
  },
  {
   "cell_type": "code",
   "execution_count": 18,
   "id": "d054a9fd",
   "metadata": {
    "execution": {
     "iopub.execute_input": "2022-10-10T15:37:36.713713Z",
     "iopub.status.busy": "2022-10-10T15:37:36.713346Z",
     "iopub.status.idle": "2022-10-10T15:37:36.810867Z",
     "shell.execute_reply": "2022-10-10T15:37:36.810014Z"
    },
    "papermill": {
     "duration": 0.110303,
     "end_time": "2022-10-10T15:37:36.813302",
     "exception": false,
     "start_time": "2022-10-10T15:37:36.702999",
     "status": "completed"
    },
    "tags": []
   },
   "outputs": [
    {
     "data": {
      "image/png": "[encoded data removed]",
      "text/plain": [
       "<Figure size 432x288 with 1 Axes>"
      ]
     },
     "metadata": {
      "needs_background": "light"
     },
     "output_type": "display_data"
    }
   ],
   "source": [
    "sns.countplot(x=\"LUNG_CANCER\", data=lc_no_dup)\n",
    "plt.show()"
   ]
  },
  {
   "cell_type": "markdown",
   "id": "a9b0f40e",
   "metadata": {
    "papermill": {
     "duration": 0.011795,
     "end_time": "2022-10-10T15:37:36.837771",
     "exception": false,
     "start_time": "2022-10-10T15:37:36.825976",
     "status": "completed"
    },
    "tags": []
   },
   "source": [
    "(3) Relationship of cancer occurance with other variables"
   ]
  },
  {
   "cell_type": "code",
   "execution_count": 19,
   "id": "a78b7980",
   "metadata": {
    "execution": {
     "iopub.execute_input": "2022-10-10T15:37:36.862809Z",
     "iopub.status.busy": "2022-10-10T15:37:36.860619Z",
     "iopub.status.idle": "2022-10-10T15:37:36.885812Z",
     "shell.execute_reply": "2022-10-10T15:37:36.884874Z"
    },
    "papermill": {
     "duration": 0.039234,
     "end_time": "2022-10-10T15:37:36.889120",
     "exception": false,
     "start_time": "2022-10-10T15:37:36.849886",
     "status": "completed"
    },
    "tags": []
   },
   "outputs": [
    {
     "name": "stdout",
     "output_type": "stream",
     "text": [
      "     GENDER  AGE SMOKING YELLOW_FINGERS ANXIETY PEER_PRESSURE CHRONIC DISEASE  \\\n",
      "0      Male   69      No            Yes     Yes            No              No   \n",
      "1      Male   74     Yes             No      No            No             Yes   \n",
      "2    Female   59      No             No      No           Yes              No   \n",
      "3      Male   63     Yes            Yes     Yes            No              No   \n",
      "4    Female   63      No            Yes      No            No              No   \n",
      "..      ...  ...     ...            ...     ...           ...             ...   \n",
      "279  Female   59      No            Yes     Yes           Yes              No   \n",
      "280  Female   59     Yes             No      No            No             Yes   \n",
      "281    Male   55     Yes             No      No            No              No   \n",
      "282    Male   46      No            Yes     Yes            No              No   \n",
      "283    Male   60      No            Yes     Yes            No              No   \n",
      "\n",
      "    FATIGUE  ALLERGY  WHEEZING ALCOHOL CONSUMING COUGHING SHORTNESS OF BREATH  \\\n",
      "0        Yes       No      Yes               Yes      Yes                 Yes   \n",
      "1        Yes      Yes       No                No       No                 Yes   \n",
      "2        Yes       No      Yes                No      Yes                 Yes   \n",
      "3         No       No       No               Yes       No                  No   \n",
      "4         No       No      Yes                No      Yes                 Yes   \n",
      "..       ...      ...      ...               ...      ...                 ...   \n",
      "279       No      Yes      Yes                No      Yes                  No   \n",
      "280      Yes      Yes       No                No       No                 Yes   \n",
      "281      Yes      Yes       No                No       No                 Yes   \n",
      "282       No       No       No                No       No                  No   \n",
      "283      Yes       No      Yes               Yes      Yes                 Yes   \n",
      "\n",
      "    SWALLOWING DIFFICULTY CHEST PAIN LUNG_CANCER  \n",
      "0                     Yes        Yes         Yes  \n",
      "1                     Yes        Yes         Yes  \n",
      "2                      No        Yes          No  \n",
      "3                     Yes        Yes          No  \n",
      "4                      No         No          No  \n",
      "..                    ...        ...         ...  \n",
      "279                   Yes         No         Yes  \n",
      "280                    No         No          No  \n",
      "281                    No        Yes          No  \n",
      "282                   Yes        Yes          No  \n",
      "283                   Yes        Yes         Yes  \n",
      "\n",
      "[276 rows x 16 columns]\n"
     ]
    },
    {
     "name": "stderr",
     "output_type": "stream",
     "text": [
      "/opt/conda/lib/python3.7/site-packages/ipykernel_launcher.py:1: SettingWithCopyWarning: \n",
      "A value is trying to be set on a copy of a slice from a DataFrame.\n",
      "Try using .loc[row_indexer,col_indexer] = value instead\n",
      "\n",
      "See the caveats in the documentation: https://pandas.pydata.org/pandas-docs/stable/user_guide/indexing.html#returning-a-view-versus-a-copy\n",
      "  \"\"\"Entry point for launching an IPython kernel.\n",
      "/opt/conda/lib/python3.7/site-packages/ipykernel_launcher.py:2: SettingWithCopyWarning: \n",
      "A value is trying to be set on a copy of a slice from a DataFrame.\n",
      "Try using .loc[row_indexer,col_indexer] = value instead\n",
      "\n",
      "See the caveats in the documentation: https://pandas.pydata.org/pandas-docs/stable/user_guide/indexing.html#returning-a-view-versus-a-copy\n",
      "  \n",
      "/opt/conda/lib/python3.7/site-packages/ipykernel_launcher.py:11: SettingWithCopyWarning: \n",
      "A value is trying to be set on a copy of a slice from a DataFrame.\n",
      "Try using .loc[row_indexer,col_indexer] = value instead\n",
      "\n",
      "See the caveats in the documentation: https://pandas.pydata.org/pandas-docs/stable/user_guide/indexing.html#returning-a-view-versus-a-copy\n",
      "  # This is added back by InteractiveShellApp.init_path()\n"
     ]
    }
   ],
   "source": [
    "lc_no_dup[\"GENDER\"]=lc_no_dup[\"GENDER\"].replace([\"M\",\"F\"],[\"Male\",\"Female\"])\n",
    "lc_no_dup[\"LUNG_CANCER\"]=lc_no_dup[\"LUNG_CANCER\"].replace([\"YES\",\"NO\"],[\"Yes\",\"No\"])\n",
    "\n",
    "if __name__ == \"__main__\":\n",
    "    \n",
    "    col = [ 'AGE', 'SMOKING', 'YELLOW_FINGERS', 'ANXIETY',\n",
    "       'PEER_PRESSURE', 'CHRONIC DISEASE', 'FATIGUE ', 'ALLERGY ', 'WHEEZING',\n",
    "       'ALCOHOL CONSUMING', 'COUGHING', 'SHORTNESS OF BREATH',\n",
    "       'SWALLOWING DIFFICULTY', 'CHEST PAIN' ]\n",
    "for x in col:\n",
    "    lc_no_dup[x]=lc_no_dup[x].replace([1,2],[\"No\",\"Yes\"])\n",
    "        \n",
    "print(lc_no_dup)"
   ]
  },
  {
   "cell_type": "code",
   "execution_count": 20,
   "id": "d342b89e",
   "metadata": {
    "execution": {
     "iopub.execute_input": "2022-10-10T15:37:36.908477Z",
     "iopub.status.busy": "2022-10-10T15:37:36.908148Z",
     "iopub.status.idle": "2022-10-10T15:37:37.051121Z",
     "shell.execute_reply": "2022-10-10T15:37:37.050399Z"
    },
    "papermill": {
     "duration": 0.15505,
     "end_time": "2022-10-10T15:37:37.053504",
     "exception": false,
     "start_time": "2022-10-10T15:37:36.898454",
     "status": "completed"
    },
    "tags": []
   },
   "outputs": [
    {
     "name": "stdout",
     "output_type": "stream",
     "text": [
      "GENDER  LUNG_CANCER\n",
      "Female  No              21\n",
      "        Yes            113\n",
      "Male    No              17\n",
      "        Yes            125\n",
      "Name: LUNG_CANCER, dtype: int64\n"
     ]
    },
    {
     "data": {
      "image/png": "[encoded data removed]",
      "text/plain": [
       "<Figure size 432x288 with 1 Axes>"
      ]
     },
     "metadata": {
      "needs_background": "light"
     },
     "output_type": "display_data"
    },
    {
     "name": "stdout",
     "output_type": "stream",
     "text": [
      "Conclusion: Males mostly have lung cancers\n"
     ]
    }
   ],
   "source": [
    "x = lc_no_dup.groupby([\"GENDER\",\"LUNG_CANCER\"])[\"LUNG_CANCER\"].count()\n",
    "print(x)\n",
    "\n",
    "x.plot(kind=\"bar\", color=[\"pink\", \"green\", \"yellow\", \"blue\"])\n",
    "plt.show()\n",
    "\n",
    "print (\"Conclusion: Males mostly have lung cancers\")"
   ]
  },
  {
   "cell_type": "code",
   "execution_count": 21,
   "id": "9188c0af",
   "metadata": {
    "execution": {
     "iopub.execute_input": "2022-10-10T15:37:37.078051Z",
     "iopub.status.busy": "2022-10-10T15:37:37.076955Z",
     "iopub.status.idle": "2022-10-10T15:37:37.204191Z",
     "shell.execute_reply": "2022-10-10T15:37:37.203229Z"
    },
    "papermill": {
     "duration": 0.148862,
     "end_time": "2022-10-10T15:37:37.215187",
     "exception": false,
     "start_time": "2022-10-10T15:37:37.066325",
     "status": "completed"
    },
    "tags": []
   },
   "outputs": [
    {
     "name": "stdout",
     "output_type": "stream",
     "text": [
      "GENDER  SMOKING\n",
      "Female  No         64\n",
      "        Yes        70\n",
      "Male    No         62\n",
      "        Yes        80\n",
      "Name: LUNG_CANCER, dtype: int64\n"
     ]
    },
    {
     "data": {
      "image/png": "[encoded data removed]",
      "text/plain": [
       "<Figure size 432x288 with 1 Axes>"
      ]
     },
     "metadata": {
      "needs_background": "light"
     },
     "output_type": "display_data"
    },
    {
     "name": "stdout",
     "output_type": "stream",
     "text": [
      "Conclusion: Males mostly smoke\n"
     ]
    }
   ],
   "source": [
    "x = lc_no_dup.groupby([\"GENDER\",\"SMOKING\"])[\"LUNG_CANCER\"].count()\n",
    "print(x)\n",
    "\n",
    "x.plot(kind=\"bar\", color=[\"red\", \"violet\", \"indigo\", \"orange\"])\n",
    "plt.show()\n",
    "\n",
    "print(\"Conclusion: Males mostly smoke\")"
   ]
  },
  {
   "cell_type": "code",
   "execution_count": 22,
   "id": "c5d5e24a",
   "metadata": {
    "execution": {
     "iopub.execute_input": "2022-10-10T15:37:37.237725Z",
     "iopub.status.busy": "2022-10-10T15:37:37.237404Z",
     "iopub.status.idle": "2022-10-10T15:37:37.362882Z",
     "shell.execute_reply": "2022-10-10T15:37:37.361526Z"
    },
    "papermill": {
     "duration": 0.138877,
     "end_time": "2022-10-10T15:37:37.365205",
     "exception": false,
     "start_time": "2022-10-10T15:37:37.226328",
     "status": "completed"
    },
    "tags": []
   },
   "outputs": [
    {
     "name": "stdout",
     "output_type": "stream",
     "text": [
      "SMOKING  LUNG_CANCER\n",
      "No       No              19\n",
      "         Yes            107\n",
      "Yes      No              19\n",
      "         Yes            131\n",
      "Name: LUNG_CANCER, dtype: int64\n"
     ]
    },
    {
     "data": {
      "image/png": "[encoded data removed]",
      "text/plain": [
       "<Figure size 432x288 with 1 Axes>"
      ]
     },
     "metadata": {
      "needs_background": "light"
     },
     "output_type": "display_data"
    },
    {
     "name": "stdout",
     "output_type": "stream",
     "text": [
      "Conclusion: Smoking causes lung cancer\n"
     ]
    }
   ],
   "source": [
    "x = lc_no_dup.groupby([\"SMOKING\", \"LUNG_CANCER\"])[\"LUNG_CANCER\"].count()\n",
    "print(x)\n",
    "\n",
    "x.plot(kind=\"bar\", color=[\"red\", \"violet\", \"indigo\", \"orange\"])\n",
    "plt.show()\n",
    "\n",
    "print(\"Conclusion: Smoking causes lung cancer\")"
   ]
  },
  {
   "cell_type": "code",
   "execution_count": 23,
   "id": "8c70511d",
   "metadata": {
    "execution": {
     "iopub.execute_input": "2022-10-10T15:37:37.386401Z",
     "iopub.status.busy": "2022-10-10T15:37:37.386098Z",
     "iopub.status.idle": "2022-10-10T15:37:37.519417Z",
     "shell.execute_reply": "2022-10-10T15:37:37.518397Z"
    },
    "papermill": {
     "duration": 0.145685,
     "end_time": "2022-10-10T15:37:37.521208",
     "exception": false,
     "start_time": "2022-10-10T15:37:37.375523",
     "status": "completed"
    },
    "tags": []
   },
   "outputs": [
    {
     "name": "stdout",
     "output_type": "stream",
     "text": [
      "GENDER  SMOKING  LUNG_CANCER\n",
      "Female  No       No             11\n",
      "                 Yes            53\n",
      "        Yes      No             10\n",
      "                 Yes            60\n",
      "Male    No       No              8\n",
      "                 Yes            54\n",
      "        Yes      No              9\n",
      "                 Yes            71\n",
      "Name: LUNG_CANCER, dtype: int64\n"
     ]
    },
    {
     "data": {
      "image/png": "[encoded data removed]",
      "text/plain": [
       "<Figure size 432x288 with 1 Axes>"
      ]
     },
     "metadata": {
      "needs_background": "light"
     },
     "output_type": "display_data"
    },
    {
     "name": "stdout",
     "output_type": "stream",
     "text": [
      "Conclusion: Males who smokes mostly have lung cancer\n"
     ]
    }
   ],
   "source": [
    "x = lc_no_dup.groupby([\"GENDER\", \"SMOKING\", \"LUNG_CANCER\"])[\"LUNG_CANCER\"].count()\n",
    "print(x)\n",
    "\n",
    "x.plot(kind=\"bar\", color=[\"violet\", \"indigo\", \"blue\", \"green\", \"yellow\", \"orange\", \"red\", \"black\"])\n",
    "plt.show()\n",
    "\n",
    "print(\"Conclusion: Males who smokes mostly have lung cancer\")"
   ]
  },
  {
   "cell_type": "code",
   "execution_count": 24,
   "id": "bdbb05a3",
   "metadata": {
    "execution": {
     "iopub.execute_input": "2022-10-10T15:37:37.544226Z",
     "iopub.status.busy": "2022-10-10T15:37:37.543660Z",
     "iopub.status.idle": "2022-10-10T15:37:38.523609Z",
     "shell.execute_reply": "2022-10-10T15:37:38.522391Z"
    },
    "papermill": {
     "duration": 0.993648,
     "end_time": "2022-10-10T15:37:38.525759",
     "exception": false,
     "start_time": "2022-10-10T15:37:37.532111",
     "status": "completed"
    },
    "tags": []
   },
   "outputs": [
    {
     "name": "stdout",
     "output_type": "stream",
     "text": [
      "     GENDER  AGE  SMOKING  YELLOW_FINGERS  ANXIETY  PEER_PRESSURE  \\\n",
      "0         0   69        0               1        1              0   \n",
      "1         0   74        1               0        0              0   \n",
      "2         1   59        0               0        0              1   \n",
      "3         0   63        1               1        1              0   \n",
      "4         1   63        0               1        0              0   \n",
      "..      ...  ...      ...             ...      ...            ...   \n",
      "279       1   59        0               1        1              1   \n",
      "280       1   59        1               0        0              0   \n",
      "281       0   55        1               0        0              0   \n",
      "282       0   46        0               1        1              0   \n",
      "283       0   60        0               1        1              0   \n",
      "\n",
      "     CHRONIC DISEASE  FATIGUE   ALLERGY   WHEEZING  ALCOHOL CONSUMING  \\\n",
      "0                  0         1         0         1                  1   \n",
      "1                  1         1         1         0                  0   \n",
      "2                  0         1         0         1                  0   \n",
      "3                  0         0         0         0                  1   \n",
      "4                  0         0         0         1                  0   \n",
      "..               ...       ...       ...       ...                ...   \n",
      "279                0         0         1         1                  0   \n",
      "280                1         1         1         0                  0   \n",
      "281                0         1         1         0                  0   \n",
      "282                0         0         0         0                  0   \n",
      "283                0         1         0         1                  1   \n",
      "\n",
      "     COUGHING  SHORTNESS OF BREATH  SWALLOWING DIFFICULTY  CHEST PAIN  \\\n",
      "0           1                    1                      1           1   \n",
      "1           0                    1                      1           1   \n",
      "2           1                    1                      0           1   \n",
      "3           0                    0                      1           1   \n",
      "4           1                    1                      0           0   \n",
      "..        ...                  ...                    ...         ...   \n",
      "279         1                    0                      1           0   \n",
      "280         0                    1                      0           0   \n",
      "281         0                    1                      0           1   \n",
      "282         0                    0                      1           1   \n",
      "283         1                    1                      1           1   \n",
      "\n",
      "     LUNG_CANCER  \n",
      "0              1  \n",
      "1              1  \n",
      "2              0  \n",
      "3              0  \n",
      "4              0  \n",
      "..           ...  \n",
      "279            1  \n",
      "280            0  \n",
      "281            0  \n",
      "282            0  \n",
      "283            1  \n",
      "\n",
      "[276 rows x 16 columns]\n"
     ]
    },
    {
     "name": "stderr",
     "output_type": "stream",
     "text": [
      "/opt/conda/lib/python3.7/site-packages/ipykernel_launcher.py:1: SettingWithCopyWarning: \n",
      "A value is trying to be set on a copy of a slice from a DataFrame.\n",
      "Try using .loc[row_indexer,col_indexer] = value instead\n",
      "\n",
      "See the caveats in the documentation: https://pandas.pydata.org/pandas-docs/stable/user_guide/indexing.html#returning-a-view-versus-a-copy\n",
      "  \"\"\"Entry point for launching an IPython kernel.\n",
      "/opt/conda/lib/python3.7/site-packages/ipykernel_launcher.py:7: SettingWithCopyWarning: \n",
      "A value is trying to be set on a copy of a slice from a DataFrame.\n",
      "Try using .loc[row_indexer,col_indexer] = value instead\n",
      "\n",
      "See the caveats in the documentation: https://pandas.pydata.org/pandas-docs/stable/user_guide/indexing.html#returning-a-view-versus-a-copy\n",
      "  import sys\n"
     ]
    },
    {
     "data": {
      "image/png": "[encoded data removed]",
      "text/plain": [
       "<Figure size 936x648 with 2 Axes>"
      ]
     },
     "metadata": {
      "needs_background": "light"
     },
     "output_type": "display_data"
    }
   ],
   "source": [
    "lc_no_dup[\"GENDER\"]=lc_no_dup[\"GENDER\"].replace([\"Male\",\"Female\"],[0,1])\n",
    "col=['SMOKING', 'YELLOW_FINGERS', 'ANXIETY',\n",
    "       'PEER_PRESSURE', 'CHRONIC DISEASE', 'FATIGUE ', 'ALLERGY ', 'WHEEZING',\n",
    "       'ALCOHOL CONSUMING', 'COUGHING', 'SHORTNESS OF BREATH',\n",
    "       'SWALLOWING DIFFICULTY', 'CHEST PAIN', 'LUNG_CANCER']\n",
    "for x in col:\n",
    "        lc_no_dup[x]=lc_no_dup[x].replace(['No', 'Yes'],[0,1])\n",
    "        \n",
    "print(lc_no_dup)\n",
    "\n",
    "plt.figure(figsize=(13,9))\n",
    "sns.heatmap(lc_no_dup.corr(), annot=True)\n",
    "plt.show()"
   ]
  }
 ],
 "metadata": {
  "kernelspec": {
   "display_name": "Python 3",
   "language": "python",
   "name": "python3"
  },
  "language_info": {
   "codemirror_mode": {
    "name": "ipython",
    "version": 3
   },
   "file_extension": ".py",
   "mimetype": "text/x-python",
   "name": "python",
   "nbconvert_exporter": "python",
   "pygments_lexer": "ipython3",
   "version": "3.7.12"
  },
  "papermill": {
   "default_parameters": {},
   "duration": 12.779831,
   "end_time": "2022-10-10T15:37:39.260115",
   "environment_variables": {},
   "exception": null,
   "input_path": "__notebook__.ipynb",
   "output_path": "__notebook__.ipynb",
   "parameters": {},
   "start_time": "2022-10-10T15:37:26.480284",
   "version": "2.3.4"
  }
 },
 "nbformat": 4,
 "nbformat_minor": 5
}
